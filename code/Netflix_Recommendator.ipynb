{
 "cells": [
  {
   "cell_type": "markdown",
   "id": "4be3876e",
   "metadata": {},
   "source": [
    "# Objective\n"
   ]
  },
  {
   "cell_type": "markdown",
   "id": "f99d1be6",
   "metadata": {},
   "source": [
    "Machine learning from data and recommend best TV shows and movies to users based on their own rating history&viewing behaviour patterns"
   ]
  },
  {
   "cell_type": "code",
   "execution_count": 1,
   "id": "9865f26f",
   "metadata": {},
   "outputs": [],
   "source": [
    "# to import all the library and modules we need "
   ]
  },
  {
   "cell_type": "code",
   "execution_count": 1,
   "id": "21f397b4",
   "metadata": {},
   "outputs": [],
   "source": [
    "import pandas as pd\n",
    "import numpy as np\n",
    "import math\n",
    "import re\n",
    "from scipy.sparse import csr_matrix\n",
    "import matplotlib.pyplot as plt\n",
    "import seaborn as sns\n",
    "from surprise import Reader, Dataset, SVD\n",
    "from surprise.model_selection import cross_validate\n",
    "sns.set_style(\"darkgrid\")"
   ]
  },
  {
   "cell_type": "code",
   "execution_count": 1,
   "id": "660dc0fe",
   "metadata": {
    "tags": []
   },
   "outputs": [
    {
     "name": "stdout",
     "output_type": "stream",
     "text": [
      "Collecting scikit-surprise\n",
      "  Using cached scikit_surprise-1.1.1-cp37-cp37m-win_amd64.whl\n",
      "Requirement already satisfied: joblib>=0.11 in d:\\rw_programs\\anaconda\\envs\\pyvizenv\\lib\\site-packages (from scikit-surprise) (1.0.1)\n",
      "Requirement already satisfied: numpy>=1.11.2 in d:\\rw_programs\\anaconda\\envs\\pyvizenv\\lib\\site-packages (from scikit-surprise) (1.19.5)\n",
      "Requirement already satisfied: scipy>=1.0.0 in d:\\rw_programs\\anaconda\\envs\\pyvizenv\\lib\\site-packages (from scikit-surprise) (1.6.2)\n",
      "Requirement already satisfied: six>=1.10.0 in d:\\rw_programs\\anaconda\\envs\\pyvizenv\\lib\\site-packages (from scikit-surprise) (1.15.0)\n",
      "Installing collected packages: scikit-surprise\n",
      "Successfully installed scikit-surprise-1.1.1\n"
     ]
    }
   ],
   "source": [
    "#Surprise is a Python scikit for building and analyzing recommender systems that deal with explicit rating data\n",
    "#\n",
    "# !pip install scikit-surprise"
   ]
  },
  {
   "cell_type": "code",
   "execution_count": 2,
   "id": "47f49ac7",
   "metadata": {},
   "outputs": [
    {
     "name": "stdout",
     "output_type": "stream",
     "text": [
      "Dataset 1 shape: (24058263, 2)\n",
      "-Dataset examples-\n",
      "         Customer_Id  Rating\n",
      "0                 1:     NaN\n",
      "2000000      1910904     5.0\n",
      "4000000       496631     3.0\n",
      "6000000      1091776     4.0\n",
      "8000000      1177065     2.0\n",
      "10000000     2271935     2.0\n",
      "12000000      700005     2.0\n",
      "14000000     1947241     5.0\n",
      "16000000      956220     4.0\n",
      "18000000      460528     3.0\n",
      "20000000     1933327     3.0\n",
      "22000000     1878057     3.0\n",
      "24000000      517002     4.0\n"
     ]
    }
   ],
   "source": [
    "# read dataframe and skip date\n",
    "df1 = pd.read_csv('../Resources/combined_data_1.txt', header = None, names = ['Customer_Id', 'Rating'], usecols = [0,1])\n",
    "\n",
    "df1['Rating'] = df1['Rating'].astype(float)\n",
    "\n",
    "print(f'Dataset 1 shape: {df1.shape}')\n",
    "print('-Dataset examples-')\n",
    "print(df1.iloc[::2000000, :])"
   ]
  },
  {
   "cell_type": "code",
   "execution_count": 3,
   "id": "7d9fe623",
   "metadata": {},
   "outputs": [],
   "source": [
    "df2 = pd.read_csv('../Resources/combined_data_2.txt', header = None, names = ['Customer_Id', 'Rating'], usecols = [0,1])\n",
    "\n",
    "df2['Rating'] = df2['Rating'].astype(float)\n",
    "\n",
    "df3 = pd.read_csv('../Resources/combined_data_3.txt', header = None, names = ['Customer_Id', 'Rating'], usecols = [0,1])\n",
    "\n",
    "df3['Rating'] = df3['Rating'].astype(float)\n",
    "\n",
    "df4 = pd.read_csv('../Resources/combined_data_4.txt', header = None, names = ['Customer_Id', 'Rating'], usecols = [0,1])\n",
    "\n",
    "df4['Rating'] = df4['Rating'].astype(float)\n",
    "\n",
    "\n",
    "\n"
   ]
  },
  {
   "cell_type": "code",
   "execution_count": 4,
   "id": "22c5e0e4",
   "metadata": {},
   "outputs": [
    {
     "data": {
      "text/plain": [
       "4499"
      ]
     },
     "execution_count": 4,
     "metadata": {},
     "output_type": "execute_result"
    }
   ],
   "source": [
    "movie_count=df1['Rating'].isnull().sum()\n",
    "movie_count"
   ]
  },
  {
   "cell_type": "code",
   "execution_count": 5,
   "id": "8145a970",
   "metadata": {},
   "outputs": [
    {
     "name": "stdout",
     "output_type": "stream",
     "text": [
      "<class 'pandas.core.frame.DataFrame'>\n",
      "Int64Index: 24053764 entries, 1 to 24058262\n",
      "Data columns (total 2 columns):\n",
      "Customer_Id    object\n",
      "Rating         float64\n",
      "dtypes: float64(1), object(1)\n",
      "memory usage: 550.5+ MB\n"
     ]
    }
   ],
   "source": [
    "df1_new = df1.dropna()\n",
    "df1_new.info()"
   ]
  },
  {
   "cell_type": "code",
   "execution_count": 6,
   "id": "6a19e1f8",
   "metadata": {
    "jupyter": {
     "source_hidden": true
    }
   },
   "outputs": [],
   "source": [
    "# df2 = pd.read_csv('../Resources/combined_data_2.txt', header = None, names = ['Customer_Id', 'Rating'], usecols = [0,1])\n",
    "# df3 = pd.read_csv('../Resources/combined_data_3.txt', header = None, names = ['Customer_Id', 'Rating'], usecols = [0,1])\n",
    "# df4 = pd.read_csv('../Resources/combined_data_4.txt', header = None, names = ['Customer_Id', 'Rating'], usecols = [0,1])\n",
    "\n",
    "\n",
    "# df2['Rating'] = df2['Rating'].astype(float)\n",
    "# df3['Rating'] = df3['Rating'].astype(float)\n",
    "# df4['Rating'] = df4['Rating'].astype(float)\n",
    "\n",
    "# print(f'Dataset 2 shape: {df2.shape}')\n",
    "# print(f'Dataset 3 shape: {df3.shape}')\n",
    "# print(f'Dataset 4 shape: {df4.shape}')"
   ]
  },
  {
   "cell_type": "code",
   "execution_count": 9,
   "id": "48661b90",
   "metadata": {},
   "outputs": [
    {
     "name": "stdout",
     "output_type": "stream",
     "text": [
      "Full dataset shape: (100498277, 2)\n",
      "-Dataset examples-\n",
      "          Customer_Id  Rating\n",
      "0                  1:     NaN\n",
      "10000000      2271935     2.0\n",
      "20000000      1933327     3.0\n",
      "30000000       961023     4.0\n",
      "40000000       854274     5.0\n",
      "50000000       768483     3.0\n",
      "60000000      1609324     2.0\n",
      "70000000      1776418     4.0\n",
      "80000000       932047     4.0\n",
      "90000000       932191     4.0\n",
      "100000000      872339     4.0\n"
     ]
    }
   ],
   "source": [
    "df_full = pd.concat([df1,df2,df3,df4],axis=0)\n",
    "df_full.index = np.arange(0,len(df_full))\n",
    "print(f'Full dataset shape: {df_full.shape}')\n",
    "print('-Dataset examples-')\n",
    "\n",
    "print(df_full.iloc[::10000000, :])"
   ]
  },
  {
   "cell_type": "code",
   "execution_count": 10,
   "id": "84333458",
   "metadata": {},
   "outputs": [
    {
     "name": "stdout",
     "output_type": "stream",
     "text": [
      "<class 'pandas.core.frame.DataFrame'>\n",
      "Int64Index: 24053764 entries, 1 to 24058262\n",
      "Data columns (total 2 columns):\n",
      "Customer_Id    object\n",
      "Rating         float64\n",
      "dtypes: float64(1), object(1)\n",
      "memory usage: 550.5+ MB\n"
     ]
    }
   ],
   "source": [
    "df1_new = df1.dropna()\n",
    "df1_new.info()"
   ]
  },
  {
   "cell_type": "code",
   "execution_count": 11,
   "id": "b58caac5",
   "metadata": {},
   "outputs": [
    {
     "data": {
      "text/plain": [
       "17770"
      ]
     },
     "execution_count": 11,
     "metadata": {},
     "output_type": "execute_result"
    }
   ],
   "source": [
    "movie_count=df_full['Rating'].isnull().sum()\n",
    "movie_count"
   ]
  },
  {
   "cell_type": "code",
   "execution_count": 12,
   "id": "43e945cc",
   "metadata": {},
   "outputs": [
    {
     "name": "stdout",
     "output_type": "stream",
     "text": [
      "<class 'pandas.core.frame.DataFrame'>\n",
      "Int64Index: 100480507 entries, 1 to 100498276\n",
      "Data columns (total 2 columns):\n",
      "Customer_Id    object\n",
      "Rating         float64\n",
      "dtypes: float64(1), object(1)\n",
      "memory usage: 2.2+ GB\n"
     ]
    }
   ],
   "source": [
    "df_full_new = df_full.dropna()\n",
    "df_full_new.info()"
   ]
  },
  {
   "cell_type": "markdown",
   "id": "af467190",
   "metadata": {},
   "source": [
    "## Exploratory Data Analysis\n",
    "\n",
    "### first of all, let us visualise the dataset, a pic says more than millions data here!"
   ]
  },
  {
   "cell_type": "code",
   "execution_count": 13,
   "id": "f2cc163c",
   "metadata": {},
   "outputs": [
    {
     "data": {
      "image/png": "[encoded data removed]",
      "text/plain": [
       "<Figure size 1080x720 with 1 Axes>"
      ]
     },
     "metadata": {},
     "output_type": "display_data"
    }
   ],
   "source": [
    "p = df_full_new.groupby('Rating')['Rating'].agg(['count'])\n",
    "# print(p)\n",
    "# get movie count\n",
    "# movie_count = df1.isnull().sum()[1]\n",
    "# print(movie_count)\n",
    "# # get customer count\n",
    "cust_count = len(set(df_full_new['Customer_Id']))\n",
    "# print(cust_count)\n",
    "# # get rating count\n",
    "rating_count = df_full_new['Customer_Id'].count()\n",
    "ax = p.plot(kind = 'barh', legend = False, figsize = (15,10))\n",
    "plt.title(f'Total pool: {movie_count} Movies, {cust_count} customers, {rating_count} ratings given', fontsize=20)\n",
    "plt.axis('off')\n",
    "# plt.bar(p.index,p.count)\n",
    "\n",
    "for i in range(1,6):\n",
    "    ax.text(p.iloc[i-1][0]/4, i-1, 'Rating {}: {:.0f}%'.format(i, p.iloc[i-1][0]*100 / p.sum()[0]), color = 'white', weight = 'bold') # TUTOR TO EXPLAIN"
   ]
  },
  {
   "cell_type": "markdown",
   "id": "3a83622c",
   "metadata": {},
   "source": [
    "it is noted that most of the viewers left ratings tend to think positively about the movies or TV shows. This might due to that happy viewers tend to finish watching the show and leave comments while unhappy viewers tend to switch to watch something else of just leave instead finishing watching.\n"
   ]
  },
  {
   "cell_type": "markdown",
   "id": "2f5a9e25",
   "metadata": {},
   "source": [
    "## Data cleaning"
   ]
  },
  {
   "cell_type": "code",
   "execution_count": 13,
   "id": "ed14cb30",
   "metadata": {},
   "outputs": [
    {
     "name": "stdout",
     "output_type": "stream",
     "text": [
      "Movie numpy: [1.000e+00 1.000e+00 1.000e+00 ... 4.499e+03 4.499e+03 4.499e+03]\n",
      "Length: 24053764\n"
     ]
    }
   ],
   "source": [
    "df_nan = pd.DataFrame(pd.isnull(df1.Rating))\n",
    "df_nan = df_nan[df_nan['Rating'] == True]\n",
    "df_nan = df_nan.reset_index()\n",
    "\n",
    "movie_np = []\n",
    "movie_id = 1\n",
    "\n",
    "for i,j in zip(df_nan['index'][1:],df_nan['index'][:-1]):         # WHAT ????\n",
    "    # numpy approach\n",
    "    temp = np.full((1,i-j-1), movie_id)\n",
    "    movie_np = np.append(movie_np, temp)\n",
    "    movie_id += 1\n",
    "\n",
    "# Account for last record and corresponding length\n",
    "# numpy approach\n",
    "last_record = np.full((1,len(df1) - df_nan.iloc[-1, 0] - 1),movie_id)\n",
    "movie_np = np.append(movie_np, last_record)\n",
    "\n",
    "print('Movie numpy: {}'.format(movie_np))\n",
    "print('Length: {}'.format(len(movie_np)))"
   ]
  },
  {
   "cell_type": "code",
   "execution_count": 12,
   "id": "fad0861c",
   "metadata": {
    "collapsed": true,
    "jupyter": {
     "outputs_hidden": true
    },
    "tags": []
   },
   "outputs": [
    {
     "name": "stderr",
     "output_type": "stream",
     "text": [
      "D:\\RW_Programs\\Anaconda\\envs\\dev\\lib\\site-packages\\ipykernel_launcher.py:4: SettingWithCopyWarning: \n",
      "A value is trying to be set on a copy of a slice from a DataFrame.\n",
      "Try using .loc[row_indexer,col_indexer] = value instead\n",
      "\n",
      "See the caveats in the documentation: https://pandas.pydata.org/pandas-docs/stable/user_guide/indexing.html#returning-a-view-versus-a-copy\n",
      "  after removing the cwd from sys.path.\n"
     ]
    },
    {
     "data": {
      "text/html": [
       "<div>\n",
       "<style scoped>\n",
       "    .dataframe tbody tr th:only-of-type {\n",
       "        vertical-align: middle;\n",
       "    }\n",
       "\n",
       "    .dataframe tbody tr th {\n",
       "        vertical-align: top;\n",
       "    }\n",
       "\n",
       "    .dataframe thead th {\n",
       "        text-align: right;\n",
       "    }\n",
       "</style>\n",
       "<table border=\"1\" class=\"dataframe\">\n",
       "  <thead>\n",
       "    <tr style=\"text-align: right;\">\n",
       "      <th></th>\n",
       "      <th>Cust_Id</th>\n",
       "      <th>Rating</th>\n",
       "      <th>MovieId</th>\n",
       "    </tr>\n",
       "  </thead>\n",
       "  <tbody>\n",
       "    <tr>\n",
       "      <th>1</th>\n",
       "      <td>1488844</td>\n",
       "      <td>3.0</td>\n",
       "      <td>NaN</td>\n",
       "    </tr>\n",
       "    <tr>\n",
       "      <th>2</th>\n",
       "      <td>822109</td>\n",
       "      <td>5.0</td>\n",
       "      <td>NaN</td>\n",
       "    </tr>\n",
       "    <tr>\n",
       "      <th>3</th>\n",
       "      <td>885013</td>\n",
       "      <td>4.0</td>\n",
       "      <td>NaN</td>\n",
       "    </tr>\n",
       "    <tr>\n",
       "      <th>4</th>\n",
       "      <td>30878</td>\n",
       "      <td>4.0</td>\n",
       "      <td>NaN</td>\n",
       "    </tr>\n",
       "    <tr>\n",
       "      <th>5</th>\n",
       "      <td>823519</td>\n",
       "      <td>3.0</td>\n",
       "      <td>NaN</td>\n",
       "    </tr>\n",
       "    <tr>\n",
       "      <th>...</th>\n",
       "      <td>...</td>\n",
       "      <td>...</td>\n",
       "      <td>...</td>\n",
       "    </tr>\n",
       "    <tr>\n",
       "      <th>24058258</th>\n",
       "      <td>2591364</td>\n",
       "      <td>2.0</td>\n",
       "      <td>NaN</td>\n",
       "    </tr>\n",
       "    <tr>\n",
       "      <th>24058259</th>\n",
       "      <td>1791000</td>\n",
       "      <td>2.0</td>\n",
       "      <td>NaN</td>\n",
       "    </tr>\n",
       "    <tr>\n",
       "      <th>24058260</th>\n",
       "      <td>512536</td>\n",
       "      <td>5.0</td>\n",
       "      <td>NaN</td>\n",
       "    </tr>\n",
       "    <tr>\n",
       "      <th>24058261</th>\n",
       "      <td>988963</td>\n",
       "      <td>3.0</td>\n",
       "      <td>NaN</td>\n",
       "    </tr>\n",
       "    <tr>\n",
       "      <th>24058262</th>\n",
       "      <td>1704416</td>\n",
       "      <td>3.0</td>\n",
       "      <td>NaN</td>\n",
       "    </tr>\n",
       "  </tbody>\n",
       "</table>\n",
       "<p>24053764 rows × 3 columns</p>\n",
       "</div>"
      ],
      "text/plain": [
       "          Cust_Id  Rating MovieId\n",
       "1         1488844     3.0     NaN\n",
       "2          822109     5.0     NaN\n",
       "3          885013     4.0     NaN\n",
       "4           30878     4.0     NaN\n",
       "5          823519     3.0     NaN\n",
       "...           ...     ...     ...\n",
       "24058258  2591364     2.0     NaN\n",
       "24058259  1791000     2.0     NaN\n",
       "24058260   512536     5.0     NaN\n",
       "24058261   988963     3.0     NaN\n",
       "24058262  1704416     3.0     NaN\n",
       "\n",
       "[24053764 rows x 3 columns]"
      ]
     },
     "execution_count": 12,
     "metadata": {},
     "output_type": "execute_result"
    }
   ],
   "source": [
    "# df1=pd.read_csv(\"../Resources/combined_data_1.txt\",header=None, names=[\"Cust_Id\",\"Rating\"], usecols=[0,1])\n",
    "# df1[\"MovieId\"]=\"NaN\"\n",
    "# df3=df1[df1[\"Cust_Id\"].apply(lambda x:x[-1]==\":\")]\n",
    "# df3[\"MovieId\"]=df3[\"Cust_Id\"].str.replace(\":\",\"\")\n",
    "# df1.loc[df3.index,:]=df3\n",
    "# df1[\"MovieId\"]=df1[\"MovieId\"].fillna(method=\"ffill\")\n",
    "# df1=df1[df1[\"Rating\"].notnull()]\n",
    "# df1"
   ]
  },
  {
   "cell_type": "code",
   "execution_count": 14,
   "id": "4ac9a616",
   "metadata": {},
   "outputs": [],
   "source": [
    "# df_nan = pd.DataFrame(pd.isnull(df_full.Rating))\n",
    "# df_nan = df_nan[df_nan['Rating']==True]\n",
    "# df_nan = df_nan.reset_index()\n",
    "# df_nan.head()"
   ]
  },
  {
   "cell_type": "code",
   "execution_count": 15,
   "id": "5027323b",
   "metadata": {},
   "outputs": [],
   "source": [
    "# df_nan['index'][:-1]"
   ]
  },
  {
   "cell_type": "code",
   "execution_count": 16,
   "id": "fc06f080",
   "metadata": {},
   "outputs": [
    {
     "name": "stdout",
     "output_type": "stream",
     "text": [
      "-Dataset examples-\n",
      "          Customer_Id  Rating  Movie_Id\n",
      "1             1488844     3.0         1\n",
      "5000996        501954     2.0       996\n",
      "10001962       404654     5.0      1962\n",
      "15002876       886608     2.0      2876\n",
      "20003825      1193835     2.0      3825\n"
     ]
    }
   ],
   "source": [
    "# remove those Movie ID rows\n",
    "df1 = df1[pd.notnull(df1['Rating'])]\n",
    "\n",
    "df1['Movie_Id'] = movie_np.astype(int)\n",
    "df1['Customer_Id'] = df1['Customer_Id'].astype(int)\n",
    "print('-Dataset examples-')\n",
    "print(df1.iloc[::5000000, :])"
   ]
  },
  {
   "cell_type": "code",
   "execution_count": 17,
   "id": "aefb8206",
   "metadata": {},
   "outputs": [
    {
     "data": {
      "text/plain": [
       "(24053764, 3)"
      ]
     },
     "execution_count": 17,
     "metadata": {},
     "output_type": "execute_result"
    }
   ],
   "source": [
    "df1.shape"
   ]
  },
  {
   "cell_type": "markdown",
   "id": "81d4b545",
   "metadata": {},
   "source": [
    "## to reduce the data volumn by improving the data quality below:\n",
    "\n",
    "Remove movie with too less reviews (they are relatively not popular)\n",
    "Remove customer who give too less reviews (they are relatively less active)\n",
    "Having above benchmark will have significant improvement on efficiency, since those unpopular movies and non-active customers still occupy same volumn as those popular movies and active customers in the view of matrix"
   ]
  },
  {
   "cell_type": "code",
   "execution_count": 23,
   "id": "300bb61c",
   "metadata": {},
   "outputs": [
    {
     "name": "stdout",
     "output_type": "stream",
     "text": [
      "Movie minimum times of review: 1799.0\n",
      "Customer minimum times of review: 52.0\n"
     ]
    }
   ],
   "source": [
    "f = ['count','mean']\n",
    "\n",
    "df_movie_summary = df1.groupby('Movie_Id')['Rating'].agg(f) # to aggregate movie_id ratings by count and mean\n",
    "df_movie_summary.index = df_movie_summary.index.map(int)\n",
    "movie_benchmark = round(df_movie_summary['count'].quantile(0.7),0) # to set up benchmark for viewers rating counts\n",
    "drop_movie_list = df_movie_summary[df_movie_summary['count'] < movie_benchmark].index\n",
    "\n",
    "print('Movie minimum times of review: {}'.format(movie_benchmark))\n",
    "\n",
    "df_cust_summary = df1.groupby('Customer_Id')['Rating'].agg(f)\n",
    "df_cust_summary.index = df_cust_summary.index.map(int)\n",
    "cust_benchmark = round(df_cust_summary['count'].quantile(0.7),0)\n",
    "drop_cust_list = df_cust_summary[df_cust_summary['count'] < cust_benchmark].index\n",
    "\n",
    "print('Customer minimum times of review: {}'.format(cust_benchmark))"
   ]
  },
  {
   "cell_type": "code",
   "execution_count": 20,
   "id": "69dedb29",
   "metadata": {
    "collapsed": true,
    "jupyter": {
     "outputs_hidden": true
    },
    "tags": []
   },
   "outputs": [
    {
     "data": {
      "text/html": [
       "<div>\n",
       "<style scoped>\n",
       "    .dataframe tbody tr th:only-of-type {\n",
       "        vertical-align: middle;\n",
       "    }\n",
       "\n",
       "    .dataframe tbody tr th {\n",
       "        vertical-align: top;\n",
       "    }\n",
       "\n",
       "    .dataframe thead th {\n",
       "        text-align: right;\n",
       "    }\n",
       "</style>\n",
       "<table border=\"1\" class=\"dataframe\">\n",
       "  <thead>\n",
       "    <tr style=\"text-align: right;\">\n",
       "      <th></th>\n",
       "      <th>count</th>\n",
       "      <th>mean</th>\n",
       "    </tr>\n",
       "    <tr>\n",
       "      <th>Movie_Id</th>\n",
       "      <th></th>\n",
       "      <th></th>\n",
       "    </tr>\n",
       "  </thead>\n",
       "  <tbody>\n",
       "    <tr>\n",
       "      <th>2721</th>\n",
       "      <td>310</td>\n",
       "      <td>2.358065</td>\n",
       "    </tr>\n",
       "    <tr>\n",
       "      <th>2587</th>\n",
       "      <td>78</td>\n",
       "      <td>2.641026</td>\n",
       "    </tr>\n",
       "    <tr>\n",
       "      <th>2692</th>\n",
       "      <td>1089</td>\n",
       "      <td>4.015611</td>\n",
       "    </tr>\n",
       "    <tr>\n",
       "      <th>931</th>\n",
       "      <td>1809</td>\n",
       "      <td>3.054174</td>\n",
       "    </tr>\n",
       "    <tr>\n",
       "      <th>4039</th>\n",
       "      <td>393</td>\n",
       "      <td>1.933842</td>\n",
       "    </tr>\n",
       "  </tbody>\n",
       "</table>\n",
       "</div>"
      ],
      "text/plain": [
       "          count      mean\n",
       "Movie_Id                 \n",
       "2721        310  2.358065\n",
       "2587         78  2.641026\n",
       "2692       1089  4.015611\n",
       "931        1809  3.054174\n",
       "4039        393  1.933842"
      ]
     },
     "execution_count": 20,
     "metadata": {},
     "output_type": "execute_result"
    }
   ],
   "source": [
    "# df_movie_summary=df1.groupby('Movie_Id')['Rating'].agg(['count','mean'])\n",
    "# df_movie_summary.head()\n",
    "# # df_movie_summary.index = df_movie_summary.index.map(int)\n",
    "# df_movie_summary.sample(5)"
   ]
  },
  {
   "cell_type": "code",
   "execution_count": 21,
   "id": "47636321",
   "metadata": {
    "tags": []
   },
   "outputs": [
    {
     "data": {
      "text/plain": [
       "Int64Index([   1,    2,    3,    4,    5,    6,    7,    8,    9,   10,\n",
       "            ...\n",
       "            4490, 4491, 4492, 4493, 4494, 4495, 4496, 4497, 4498, 4499],\n",
       "           dtype='int64', name='Movie_Id', length=4499)"
      ]
     },
     "execution_count": 21,
     "metadata": {},
     "output_type": "execute_result"
    }
   ],
   "source": [
    "# df_movie_summary.index.map(int)"
   ]
  },
  {
   "cell_type": "code",
   "execution_count": 22,
   "id": "15c4771d",
   "metadata": {},
   "outputs": [
    {
     "data": {
      "text/plain": [
       "1799.0"
      ]
     },
     "execution_count": 22,
     "metadata": {},
     "output_type": "execute_result"
    }
   ],
   "source": [
    "# movie_benchmark = round(df_movie_summary['count'].quantile(0.7),0)\n",
    "# movie_benchmark"
   ]
  },
  {
   "cell_type": "code",
   "execution_count": 23,
   "id": "393f08b8",
   "metadata": {
    "collapsed": true,
    "jupyter": {
     "outputs_hidden": true
    }
   },
   "outputs": [
    {
     "data": {
      "text/html": [
       "<div>\n",
       "<style scoped>\n",
       "    .dataframe tbody tr th:only-of-type {\n",
       "        vertical-align: middle;\n",
       "    }\n",
       "\n",
       "    .dataframe tbody tr th {\n",
       "        vertical-align: top;\n",
       "    }\n",
       "\n",
       "    .dataframe thead th {\n",
       "        text-align: right;\n",
       "    }\n",
       "</style>\n",
       "<table border=\"1\" class=\"dataframe\">\n",
       "  <thead>\n",
       "    <tr style=\"text-align: right;\">\n",
       "      <th></th>\n",
       "      <th>count</th>\n",
       "      <th>mean</th>\n",
       "    </tr>\n",
       "    <tr>\n",
       "      <th>Customer_Id</th>\n",
       "      <th></th>\n",
       "      <th></th>\n",
       "    </tr>\n",
       "  </thead>\n",
       "  <tbody>\n",
       "    <tr>\n",
       "      <th>2649404</th>\n",
       "      <td>12</td>\n",
       "      <td>4.083333</td>\n",
       "    </tr>\n",
       "    <tr>\n",
       "      <th>2649409</th>\n",
       "      <td>10</td>\n",
       "      <td>4.000000</td>\n",
       "    </tr>\n",
       "    <tr>\n",
       "      <th>2649421</th>\n",
       "      <td>3</td>\n",
       "      <td>5.000000</td>\n",
       "    </tr>\n",
       "    <tr>\n",
       "      <th>2649426</th>\n",
       "      <td>74</td>\n",
       "      <td>4.067568</td>\n",
       "    </tr>\n",
       "    <tr>\n",
       "      <th>2649429</th>\n",
       "      <td>62</td>\n",
       "      <td>4.161290</td>\n",
       "    </tr>\n",
       "  </tbody>\n",
       "</table>\n",
       "</div>"
      ],
      "text/plain": [
       "             count      mean\n",
       "Customer_Id                 \n",
       "2649404         12  4.083333\n",
       "2649409         10  4.000000\n",
       "2649421          3  5.000000\n",
       "2649426         74  4.067568\n",
       "2649429         62  4.161290"
      ]
     },
     "execution_count": 23,
     "metadata": {},
     "output_type": "execute_result"
    }
   ],
   "source": [
    "# df_cust_summary = df1.groupby('Customer_Id')['Rating'].agg(f)\n",
    "# df_cust_summary.tail()"
   ]
  },
  {
   "cell_type": "markdown",
   "id": "23a6c8e5",
   "metadata": {},
   "source": [
    "### Trim down dataset by benchmark set"
   ]
  },
  {
   "cell_type": "code",
   "execution_count": 11,
   "id": "d1209f62",
   "metadata": {
    "collapsed": true,
    "jupyter": {
     "outputs_hidden": true
    }
   },
   "outputs": [
    {
     "name": "stdout",
     "output_type": "stream",
     "text": [
      "Original Shape: (24053764, 3)\n"
     ]
    },
    {
     "ename": "MemoryError",
     "evalue": "Unable to allocate 184. MiB for an array with shape (24053764,) and data type int64",
     "output_type": "error",
     "traceback": [
      "\u001b[1;31m---------------------------------------------------------------------------\u001b[0m",
      "\u001b[1;31mMemoryError\u001b[0m                               Traceback (most recent call last)",
      "\u001b[1;32m<ipython-input-11-479ad9373444>\u001b[0m in \u001b[0;36m<module>\u001b[1;34m\u001b[0m\n\u001b[0;32m      1\u001b[0m \u001b[0mprint\u001b[0m\u001b[1;33m(\u001b[0m\u001b[1;34m'Original Shape: {}'\u001b[0m\u001b[1;33m.\u001b[0m\u001b[0mformat\u001b[0m\u001b[1;33m(\u001b[0m\u001b[0mdf1\u001b[0m\u001b[1;33m.\u001b[0m\u001b[0mshape\u001b[0m\u001b[1;33m)\u001b[0m\u001b[1;33m)\u001b[0m\u001b[1;33m\u001b[0m\u001b[1;33m\u001b[0m\u001b[0m\n\u001b[1;32m----> 2\u001b[1;33m \u001b[0mdf1\u001b[0m \u001b[1;33m=\u001b[0m \u001b[0mdf1\u001b[0m\u001b[1;33m[\u001b[0m\u001b[1;33m~\u001b[0m\u001b[0mdf1\u001b[0m\u001b[1;33m[\u001b[0m\u001b[1;34m'Movie_Id'\u001b[0m\u001b[1;33m]\u001b[0m\u001b[1;33m.\u001b[0m\u001b[0misin\u001b[0m\u001b[1;33m(\u001b[0m\u001b[0mdrop_movie_list\u001b[0m\u001b[1;33m)\u001b[0m\u001b[1;33m]\u001b[0m\u001b[1;33m\u001b[0m\u001b[1;33m\u001b[0m\u001b[0m\n\u001b[0m\u001b[0;32m      3\u001b[0m \u001b[0mdf1\u001b[0m \u001b[1;33m=\u001b[0m \u001b[0mdf1\u001b[0m\u001b[1;33m[\u001b[0m\u001b[1;33m~\u001b[0m\u001b[0mdf1\u001b[0m\u001b[1;33m[\u001b[0m\u001b[1;34m'Customer_Id'\u001b[0m\u001b[1;33m]\u001b[0m\u001b[1;33m.\u001b[0m\u001b[0misin\u001b[0m\u001b[1;33m(\u001b[0m\u001b[0mdrop_cust_list\u001b[0m\u001b[1;33m)\u001b[0m\u001b[1;33m]\u001b[0m\u001b[1;33m\u001b[0m\u001b[1;33m\u001b[0m\u001b[0m\n\u001b[0;32m      4\u001b[0m \u001b[0mprint\u001b[0m\u001b[1;33m(\u001b[0m\u001b[1;34m'After Trim Shape: {}'\u001b[0m\u001b[1;33m.\u001b[0m\u001b[0mformat\u001b[0m\u001b[1;33m(\u001b[0m\u001b[0mdf1\u001b[0m\u001b[1;33m.\u001b[0m\u001b[0mshape\u001b[0m\u001b[1;33m)\u001b[0m\u001b[1;33m)\u001b[0m\u001b[1;33m\u001b[0m\u001b[1;33m\u001b[0m\u001b[0m\n\u001b[0;32m      5\u001b[0m \u001b[0mprint\u001b[0m\u001b[1;33m(\u001b[0m\u001b[1;34m'-Data Examples-'\u001b[0m\u001b[1;33m)\u001b[0m\u001b[1;33m\u001b[0m\u001b[1;33m\u001b[0m\u001b[0m\n",
      "\u001b[1;32mD:\\RW_Programs\\Anaconda\\envs\\pyvizenv\\lib\\site-packages\\pandas\\core\\series.py\u001b[0m in \u001b[0;36misin\u001b[1;34m(self, values)\u001b[0m\n\u001b[0;32m   4001\u001b[0m         \u001b[0mName\u001b[0m\u001b[1;33m:\u001b[0m \u001b[0manimal\u001b[0m\u001b[1;33m,\u001b[0m \u001b[0mdtype\u001b[0m\u001b[1;33m:\u001b[0m \u001b[0mbool\u001b[0m\u001b[1;33m\u001b[0m\u001b[1;33m\u001b[0m\u001b[0m\n\u001b[0;32m   4002\u001b[0m         \"\"\"\n\u001b[1;32m-> 4003\u001b[1;33m         \u001b[0mresult\u001b[0m \u001b[1;33m=\u001b[0m \u001b[0malgorithms\u001b[0m\u001b[1;33m.\u001b[0m\u001b[0misin\u001b[0m\u001b[1;33m(\u001b[0m\u001b[0mself\u001b[0m\u001b[1;33m,\u001b[0m \u001b[0mvalues\u001b[0m\u001b[1;33m)\u001b[0m\u001b[1;33m\u001b[0m\u001b[1;33m\u001b[0m\u001b[0m\n\u001b[0m\u001b[0;32m   4004\u001b[0m         \u001b[1;32mreturn\u001b[0m \u001b[0mself\u001b[0m\u001b[1;33m.\u001b[0m\u001b[0m_constructor\u001b[0m\u001b[1;33m(\u001b[0m\u001b[0mresult\u001b[0m\u001b[1;33m,\u001b[0m \u001b[0mindex\u001b[0m\u001b[1;33m=\u001b[0m\u001b[0mself\u001b[0m\u001b[1;33m.\u001b[0m\u001b[0mindex\u001b[0m\u001b[1;33m)\u001b[0m\u001b[1;33m.\u001b[0m\u001b[0m__finalize__\u001b[0m\u001b[1;33m(\u001b[0m\u001b[0mself\u001b[0m\u001b[1;33m)\u001b[0m\u001b[1;33m\u001b[0m\u001b[1;33m\u001b[0m\u001b[0m\n\u001b[0;32m   4005\u001b[0m \u001b[1;33m\u001b[0m\u001b[0m\n",
      "\u001b[1;32mD:\\RW_Programs\\Anaconda\\envs\\pyvizenv\\lib\\site-packages\\pandas\\core\\algorithms.py\u001b[0m in \u001b[0;36misin\u001b[1;34m(comps, values)\u001b[0m\n\u001b[0;32m    429\u001b[0m             \u001b[0mcomps\u001b[0m \u001b[1;33m=\u001b[0m \u001b[0mcomps\u001b[0m\u001b[1;33m.\u001b[0m\u001b[0mastype\u001b[0m\u001b[1;33m(\u001b[0m\u001b[0mobject\u001b[0m\u001b[1;33m)\u001b[0m\u001b[1;33m\u001b[0m\u001b[1;33m\u001b[0m\u001b[0m\n\u001b[0;32m    430\u001b[0m \u001b[1;33m\u001b[0m\u001b[0m\n\u001b[1;32m--> 431\u001b[1;33m     \u001b[1;32mreturn\u001b[0m \u001b[0mf\u001b[0m\u001b[1;33m(\u001b[0m\u001b[0mcomps\u001b[0m\u001b[1;33m,\u001b[0m \u001b[0mvalues\u001b[0m\u001b[1;33m)\u001b[0m\u001b[1;33m\u001b[0m\u001b[1;33m\u001b[0m\u001b[0m\n\u001b[0m\u001b[0;32m    432\u001b[0m \u001b[1;33m\u001b[0m\u001b[0m\n\u001b[0;32m    433\u001b[0m \u001b[1;33m\u001b[0m\u001b[0m\n",
      "\u001b[1;32mD:\\RW_Programs\\Anaconda\\envs\\pyvizenv\\lib\\site-packages\\pandas\\core\\algorithms.py\u001b[0m in \u001b[0;36m<lambda>\u001b[1;34m(x, y)\u001b[0m\n\u001b[0;32m    410\u001b[0m     \u001b[1;31m# Ensure np.in1d doesn't get object types or it *may* throw an exception\u001b[0m\u001b[1;33m\u001b[0m\u001b[1;33m\u001b[0m\u001b[1;33m\u001b[0m\u001b[0m\n\u001b[0;32m    411\u001b[0m     \u001b[1;32mif\u001b[0m \u001b[0mlen\u001b[0m\u001b[1;33m(\u001b[0m\u001b[0mcomps\u001b[0m\u001b[1;33m)\u001b[0m \u001b[1;33m>\u001b[0m \u001b[1;36m1000000\u001b[0m \u001b[1;32mand\u001b[0m \u001b[1;32mnot\u001b[0m \u001b[0mis_object_dtype\u001b[0m\u001b[1;33m(\u001b[0m\u001b[0mcomps\u001b[0m\u001b[1;33m)\u001b[0m\u001b[1;33m:\u001b[0m\u001b[1;33m\u001b[0m\u001b[1;33m\u001b[0m\u001b[0m\n\u001b[1;32m--> 412\u001b[1;33m         \u001b[0mf\u001b[0m \u001b[1;33m=\u001b[0m \u001b[1;32mlambda\u001b[0m \u001b[0mx\u001b[0m\u001b[1;33m,\u001b[0m \u001b[0my\u001b[0m\u001b[1;33m:\u001b[0m \u001b[0mnp\u001b[0m\u001b[1;33m.\u001b[0m\u001b[0min1d\u001b[0m\u001b[1;33m(\u001b[0m\u001b[0mx\u001b[0m\u001b[1;33m,\u001b[0m \u001b[0my\u001b[0m\u001b[1;33m)\u001b[0m\u001b[1;33m\u001b[0m\u001b[1;33m\u001b[0m\u001b[0m\n\u001b[0m\u001b[0;32m    413\u001b[0m     \u001b[1;32melif\u001b[0m \u001b[0mis_integer_dtype\u001b[0m\u001b[1;33m(\u001b[0m\u001b[0mcomps\u001b[0m\u001b[1;33m)\u001b[0m\u001b[1;33m:\u001b[0m\u001b[1;33m\u001b[0m\u001b[1;33m\u001b[0m\u001b[0m\n\u001b[0;32m    414\u001b[0m         \u001b[1;32mtry\u001b[0m\u001b[1;33m:\u001b[0m\u001b[1;33m\u001b[0m\u001b[1;33m\u001b[0m\u001b[0m\n",
      "\u001b[1;32m<__array_function__ internals>\u001b[0m in \u001b[0;36min1d\u001b[1;34m(*args, **kwargs)\u001b[0m\n",
      "\u001b[1;32mD:\\RW_Programs\\Anaconda\\envs\\pyvizenv\\lib\\site-packages\\numpy\\lib\\arraysetops.py\u001b[0m in \u001b[0;36min1d\u001b[1;34m(ar1, ar2, assume_unique, invert)\u001b[0m\n\u001b[0;32m    583\u001b[0m     \u001b[1;31m# Otherwise use sorting\u001b[0m\u001b[1;33m\u001b[0m\u001b[1;33m\u001b[0m\u001b[1;33m\u001b[0m\u001b[0m\n\u001b[0;32m    584\u001b[0m     \u001b[1;32mif\u001b[0m \u001b[1;32mnot\u001b[0m \u001b[0massume_unique\u001b[0m\u001b[1;33m:\u001b[0m\u001b[1;33m\u001b[0m\u001b[1;33m\u001b[0m\u001b[0m\n\u001b[1;32m--> 585\u001b[1;33m         \u001b[0mar1\u001b[0m\u001b[1;33m,\u001b[0m \u001b[0mrev_idx\u001b[0m \u001b[1;33m=\u001b[0m \u001b[0mnp\u001b[0m\u001b[1;33m.\u001b[0m\u001b[0munique\u001b[0m\u001b[1;33m(\u001b[0m\u001b[0mar1\u001b[0m\u001b[1;33m,\u001b[0m \u001b[0mreturn_inverse\u001b[0m\u001b[1;33m=\u001b[0m\u001b[1;32mTrue\u001b[0m\u001b[1;33m)\u001b[0m\u001b[1;33m\u001b[0m\u001b[1;33m\u001b[0m\u001b[0m\n\u001b[0m\u001b[0;32m    586\u001b[0m         \u001b[0mar2\u001b[0m \u001b[1;33m=\u001b[0m \u001b[0mnp\u001b[0m\u001b[1;33m.\u001b[0m\u001b[0munique\u001b[0m\u001b[1;33m(\u001b[0m\u001b[0mar2\u001b[0m\u001b[1;33m)\u001b[0m\u001b[1;33m\u001b[0m\u001b[1;33m\u001b[0m\u001b[0m\n\u001b[0;32m    587\u001b[0m \u001b[1;33m\u001b[0m\u001b[0m\n",
      "\u001b[1;32m<__array_function__ internals>\u001b[0m in \u001b[0;36munique\u001b[1;34m(*args, **kwargs)\u001b[0m\n",
      "\u001b[1;32mD:\\RW_Programs\\Anaconda\\envs\\pyvizenv\\lib\\site-packages\\numpy\\lib\\arraysetops.py\u001b[0m in \u001b[0;36munique\u001b[1;34m(ar, return_index, return_inverse, return_counts, axis)\u001b[0m\n\u001b[0;32m    259\u001b[0m     \u001b[0mar\u001b[0m \u001b[1;33m=\u001b[0m \u001b[0mnp\u001b[0m\u001b[1;33m.\u001b[0m\u001b[0masanyarray\u001b[0m\u001b[1;33m(\u001b[0m\u001b[0mar\u001b[0m\u001b[1;33m)\u001b[0m\u001b[1;33m\u001b[0m\u001b[1;33m\u001b[0m\u001b[0m\n\u001b[0;32m    260\u001b[0m     \u001b[1;32mif\u001b[0m \u001b[0maxis\u001b[0m \u001b[1;32mis\u001b[0m \u001b[1;32mNone\u001b[0m\u001b[1;33m:\u001b[0m\u001b[1;33m\u001b[0m\u001b[1;33m\u001b[0m\u001b[0m\n\u001b[1;32m--> 261\u001b[1;33m         \u001b[0mret\u001b[0m \u001b[1;33m=\u001b[0m \u001b[0m_unique1d\u001b[0m\u001b[1;33m(\u001b[0m\u001b[0mar\u001b[0m\u001b[1;33m,\u001b[0m \u001b[0mreturn_index\u001b[0m\u001b[1;33m,\u001b[0m \u001b[0mreturn_inverse\u001b[0m\u001b[1;33m,\u001b[0m \u001b[0mreturn_counts\u001b[0m\u001b[1;33m)\u001b[0m\u001b[1;33m\u001b[0m\u001b[1;33m\u001b[0m\u001b[0m\n\u001b[0m\u001b[0;32m    262\u001b[0m         \u001b[1;32mreturn\u001b[0m \u001b[0m_unpack_tuple\u001b[0m\u001b[1;33m(\u001b[0m\u001b[0mret\u001b[0m\u001b[1;33m)\u001b[0m\u001b[1;33m\u001b[0m\u001b[1;33m\u001b[0m\u001b[0m\n\u001b[0;32m    263\u001b[0m \u001b[1;33m\u001b[0m\u001b[0m\n",
      "\u001b[1;32mD:\\RW_Programs\\Anaconda\\envs\\pyvizenv\\lib\\site-packages\\numpy\\lib\\arraysetops.py\u001b[0m in \u001b[0;36m_unique1d\u001b[1;34m(ar, return_index, return_inverse, return_counts)\u001b[0m\n\u001b[0;32m    318\u001b[0m     \u001b[1;32mif\u001b[0m \u001b[0moptional_indices\u001b[0m\u001b[1;33m:\u001b[0m\u001b[1;33m\u001b[0m\u001b[1;33m\u001b[0m\u001b[0m\n\u001b[0;32m    319\u001b[0m         \u001b[0mperm\u001b[0m \u001b[1;33m=\u001b[0m \u001b[0mar\u001b[0m\u001b[1;33m.\u001b[0m\u001b[0margsort\u001b[0m\u001b[1;33m(\u001b[0m\u001b[0mkind\u001b[0m\u001b[1;33m=\u001b[0m\u001b[1;34m'mergesort'\u001b[0m \u001b[1;32mif\u001b[0m \u001b[0mreturn_index\u001b[0m \u001b[1;32melse\u001b[0m \u001b[1;34m'quicksort'\u001b[0m\u001b[1;33m)\u001b[0m\u001b[1;33m\u001b[0m\u001b[1;33m\u001b[0m\u001b[0m\n\u001b[1;32m--> 320\u001b[1;33m         \u001b[0maux\u001b[0m \u001b[1;33m=\u001b[0m \u001b[0mar\u001b[0m\u001b[1;33m[\u001b[0m\u001b[0mperm\u001b[0m\u001b[1;33m]\u001b[0m\u001b[1;33m\u001b[0m\u001b[1;33m\u001b[0m\u001b[0m\n\u001b[0m\u001b[0;32m    321\u001b[0m     \u001b[1;32melse\u001b[0m\u001b[1;33m:\u001b[0m\u001b[1;33m\u001b[0m\u001b[1;33m\u001b[0m\u001b[0m\n\u001b[0;32m    322\u001b[0m         \u001b[0mar\u001b[0m\u001b[1;33m.\u001b[0m\u001b[0msort\u001b[0m\u001b[1;33m(\u001b[0m\u001b[1;33m)\u001b[0m\u001b[1;33m\u001b[0m\u001b[1;33m\u001b[0m\u001b[0m\n",
      "\u001b[1;31mMemoryError\u001b[0m: Unable to allocate 184. MiB for an array with shape (24053764,) and data type int64"
     ]
    }
   ],
   "source": [
    "print('Original Shape: {}'.format(df1.shape))\n",
    "df1 = df1[~df1['Movie_Id'].isin(drop_movie_list)]\n",
    "df1 = df1[~df1['Customer_Id'].isin(drop_cust_list)]\n",
    "print('After Trim Shape: {}'.format(df1.shape))\n",
    "print('-Data Examples-')\n",
    "print(df1.iloc[::5000000, :])"
   ]
  },
  {
   "cell_type": "code",
   "execution_count": null,
   "id": "74cc921c",
   "metadata": {},
   "outputs": [],
   "source": [
    "df_p = pd.pivot_table(df1,values='Rating',index='Customer_Id',columns='Movie_Id')\n",
    "\n",
    "print(df_p.shape)"
   ]
  },
  {
   "cell_type": "markdown",
   "id": "e6433da2",
   "metadata": {},
   "source": [
    "## Data Mapping"
   ]
  },
  {
   "cell_type": "code",
   "execution_count": 20,
   "id": "f050ad4a",
   "metadata": {},
   "outputs": [
    {
     "name": "stdout",
     "output_type": "stream",
     "text": [
      "<class 'pandas.core.frame.DataFrame'>\n",
      "Int64Index: 17770 entries, 1 to 17770\n",
      "Data columns (total 2 columns):\n",
      "Year    17763 non-null float64\n",
      "Name    17770 non-null object\n",
      "dtypes: float64(1), object(1)\n",
      "memory usage: 416.5+ KB\n"
     ]
    },
    {
     "data": {
      "text/html": [
       "<div>\n",
       "<style scoped>\n",
       "    .dataframe tbody tr th:only-of-type {\n",
       "        vertical-align: middle;\n",
       "    }\n",
       "\n",
       "    .dataframe tbody tr th {\n",
       "        vertical-align: top;\n",
       "    }\n",
       "\n",
       "    .dataframe thead th {\n",
       "        text-align: right;\n",
       "    }\n",
       "</style>\n",
       "<table border=\"1\" class=\"dataframe\">\n",
       "  <thead>\n",
       "    <tr style=\"text-align: right;\">\n",
       "      <th></th>\n",
       "      <th>Year</th>\n",
       "      <th>Name</th>\n",
       "    </tr>\n",
       "    <tr>\n",
       "      <th>Movie_Id</th>\n",
       "      <th></th>\n",
       "      <th></th>\n",
       "    </tr>\n",
       "  </thead>\n",
       "  <tbody>\n",
       "    <tr>\n",
       "      <th>595</th>\n",
       "      <td>2001.0</td>\n",
       "      <td>Monarch of the Glen: Series 2</td>\n",
       "    </tr>\n",
       "    <tr>\n",
       "      <th>9252</th>\n",
       "      <td>2004.0</td>\n",
       "      <td>Jancis Robinson's Wine Course</td>\n",
       "    </tr>\n",
       "    <tr>\n",
       "      <th>1932</th>\n",
       "      <td>1996.0</td>\n",
       "      <td>Race the Sun</td>\n",
       "    </tr>\n",
       "    <tr>\n",
       "      <th>13453</th>\n",
       "      <td>1994.0</td>\n",
       "      <td>Queen Margot</td>\n",
       "    </tr>\n",
       "    <tr>\n",
       "      <th>6431</th>\n",
       "      <td>2000.0</td>\n",
       "      <td>Blood Surf</td>\n",
       "    </tr>\n",
       "  </tbody>\n",
       "</table>\n",
       "</div>"
      ],
      "text/plain": [
       "            Year                           Name\n",
       "Movie_Id                                       \n",
       "595       2001.0  Monarch of the Glen: Series 2\n",
       "9252      2004.0  Jancis Robinson's Wine Course\n",
       "1932      1996.0                   Race the Sun\n",
       "13453     1994.0                   Queen Margot\n",
       "6431      2000.0                     Blood Surf"
      ]
     },
     "execution_count": 20,
     "metadata": {},
     "output_type": "execute_result"
    }
   ],
   "source": [
    "# to load teh movie title dataset\n",
    "df_title = pd.read_csv('../Resources/movie_titles.csv', encoding = \"ISO-8859-1\", header = None, names = ['Movie_Id', 'Year', 'Name'])\n",
    "df_title.set_index('Movie_Id', inplace = True)\n",
    "# df_title['Year']=df_title['Year'].astype(int)\n",
    "df_title.info()\n",
    "df_title.sample(5)\n"
   ]
  },
  {
   "cell_type": "code",
   "execution_count": null,
   "id": "f9963475",
   "metadata": {},
   "outputs": [],
   "source": []
  },
  {
   "cell_type": "code",
   "execution_count": null,
   "id": "415bc9f0",
   "metadata": {},
   "outputs": [],
   "source": []
  },
  {
   "cell_type": "code",
   "execution_count": null,
   "id": "bf9e323c",
   "metadata": {},
   "outputs": [],
   "source": []
  },
  {
   "cell_type": "markdown",
   "id": "0a69cb50",
   "metadata": {},
   "source": [
    "# Recommedation Models"
   ]
  },
  {
   "cell_type": "markdown",
   "id": "44b1a802",
   "metadata": {},
   "source": [
    "### Recommend with Collaborative Filtering\n",
    "\n"
   ]
  },
  {
   "cell_type": "code",
   "execution_count": 18,
   "id": "9360c78f",
   "metadata": {
    "tags": []
   },
   "outputs": [
    {
     "data": {
      "text/plain": [
       "{'test_rmse': array([1.14829791, 1.14308207, 1.14200074, 1.14279003, 1.11749529]),\n",
       " 'test_mae': array([0.90505458, 0.90758728, 0.89708449, 0.9213361 , 0.88217996]),\n",
       " 'fit_time': (0.17410659790039062,\n",
       "  0.17620182037353516,\n",
       "  0.1851062774658203,\n",
       "  0.17400026321411133,\n",
       "  0.18108487129211426),\n",
       " 'test_time': (0.005010128021240234,\n",
       "  0.002995729446411133,\n",
       "  0.003999948501586914,\n",
       "  0.003999948501586914,\n",
       "  0.003996849060058594)}"
      ]
     },
     "execution_count": 18,
     "metadata": {},
     "output_type": "execute_result"
    }
   ],
   "source": [
    "#Evalute performance of collaborative filtering, with just first 5K rows for faster process:\n",
    "\n",
    "reader = Reader()\n",
    "\n",
    "# get just top 5K rows for faster run time\n",
    "data = Dataset.load_from_df(df1[['Customer_Id', 'Movie_Id', 'Rating']].iloc[:5000], reader)\n",
    "#data.split(n_folds=3)\n",
    "\n",
    "svd = SVD()\n",
    "cross_validate(svd, data, measures=['RMSE', 'MAE'])\n"
   ]
  },
  {
   "cell_type": "markdown",
   "id": "fff771c6",
   "metadata": {},
   "source": [
    "### Let us predict which movies user 712664 would love to watch:"
   ]
  },
  {
   "cell_type": "code",
   "execution_count": 21,
   "id": "d12713ca",
   "metadata": {
    "collapsed": true,
    "jupyter": {
     "outputs_hidden": true
    },
    "tags": []
   },
   "outputs": [
    {
     "name": "stdout",
     "output_type": "stream",
     "text": [
      "Movie_Id\n",
      "3                                   Character\n",
      "79                                The Killing\n",
      "175                            Reservoir Dogs\n",
      "199                           The Deer Hunter\n",
      "241                        North by Northwest\n",
      "256         Ghost Dog: The Way of the Samurai\n",
      "261                             The Big Clock\n",
      "348             The Last Temptation of Christ\n",
      "357                     House of Sand and Fog\n",
      "416                                  Elephant\n",
      "442                       Mississippi Burning\n",
      "457                         Kill Bill: Vol. 2\n",
      "501                  Three Days of the Condor\n",
      "561                              High and Low\n",
      "571                           American Beauty\n",
      "708                         The Perfect Storm\n",
      "733                              Dead Ringers\n",
      "788                                    Clerks\n",
      "798                                      Jaws\n",
      "872                             Seven Samurai\n",
      "996                                   Yojimbo\n",
      "1032                              Hard Boiled\n",
      "1102                             Training Day\n",
      "1202              National Lampoon's Vacation\n",
      "1255                          Better Off Dead\n",
      "1370                             Marathon Man\n",
      "1425                               No Way Out\n",
      "1571                              Poltergeist\n",
      "1595                            The Third Man\n",
      "1625              Aliens: Collector's Edition\n",
      "                        ...                  \n",
      "2986                            Man Bites Dog\n",
      "2994                           Road to Utopia\n",
      "3054                           I'm Not Scared\n",
      "3147               The Twilight Zone: Vol. 25\n",
      "3168                Evil Dead 2: Dead by Dawn\n",
      "3221             Paradise Lost 2: Revelations\n",
      "3223              Nosferatu: Original Version\n",
      "3224           All Quiet on the Western Front\n",
      "3269                          The Longest Day\n",
      "3285                  Flight of the Navigator\n",
      "3290                            The Godfather\n",
      "3309                               The Pledge\n",
      "3342                    The Day of the Jackal\n",
      "3434                   The Mothman Prophecies\n",
      "3453                The Man Who Knew Too Much\n",
      "3469                  The Night of the Hunter\n",
      "3544                           The Odd Couple\n",
      "3605    The Wizard of Oz: Collector's Edition\n",
      "3611                          Man on the Moon\n",
      "3626                                25th Hour\n",
      "3636        The Work of Director Mark Romanek\n",
      "3650                                War Games\n",
      "3713                                      Saw\n",
      "3728             So I Married an Axe Murderer\n",
      "3887                Aguirre: The Wrath of God\n",
      "3987                     The Roaring Twenties\n",
      "4109                          American Psycho\n",
      "4266                The Passion of the Christ\n",
      "4384                         Dawn of the Dead\n",
      "4392                         Army of Darkness\n",
      "Name: Name, Length: 93, dtype: object\n"
     ]
    }
   ],
   "source": [
    "# to sample one customer's viewing history\n",
    "df_712664 = df1[(df1['Customer_Id'] == 712664) & (df1['Rating'] == 5)]\n",
    "df_712664 = df_712664.set_index('Movie_Id')\n",
    "df_712664 = df_712664.join(df_title)['Name']\n",
    "print(df_712664)"
   ]
  },
  {
   "cell_type": "code",
   "execution_count": 32,
   "id": "8aa6011f",
   "metadata": {},
   "outputs": [
    {
     "name": "stdout",
     "output_type": "stream",
     "text": [
      "       Year                            Name  Estimate_Score\n",
      "78   1956.0                     The Killing        4.644941\n",
      "198  1978.0                 The Deer Hunter        4.505028\n",
      "166  2004.0                      The Chorus        4.326143\n",
      "32   2000.0  Aqua Teen Hunger Force: Vol. 1        4.230806\n",
      "67   2004.0                     Invader Zim        4.186279\n",
      "2    1997.0                       Character        4.127155\n",
      "51   2002.0         The Weather Underground        4.089440\n",
      "96   2002.0                   Mostly Martha        4.078450\n",
      "190  2003.0                X2: X-Men United        4.067398\n",
      "151  1995.0               A Little Princess        4.056710\n"
     ]
    }
   ],
   "source": [
    "user_712664  = df_title.copy()\n",
    "user_712664  = user_712664 .reset_index()\n",
    "user_712664  = user_712664 [~user_712664 ['Movie_Id'].isin(drop_movie_list)]\n",
    "\n",
    "# getting full dataset , Evalute performance of collaborative filtering, with just first 1million rows for faster process:\n",
    "data = Dataset.load_from_df(df1[['Customer_Id', 'Movie_Id', 'Rating']].iloc[:1000000], reader)\n",
    "\n",
    "trainset = data.build_full_trainset()\n",
    "svd.fit(trainset)\n",
    "\n",
    "user_712664 ['Estimate_Score'] = user_712664 ['Movie_Id'].apply(lambda x: svd.predict(712664 , x).est)\n",
    "\n",
    "user_712664  = user_712664 .drop('Movie_Id', axis = 1)\n",
    "\n",
    "user_712664  = user_712664 .sort_values('Estimate_Score', ascending=False)\n",
    "print(user_712664 .head(10))"
   ]
  },
  {
   "cell_type": "code",
   "execution_count": null,
   "id": "bac73952",
   "metadata": {},
   "outputs": [],
   "source": []
  },
  {
   "cell_type": "code",
   "execution_count": null,
   "id": "6d733b48",
   "metadata": {},
   "outputs": [],
   "source": []
  },
  {
   "cell_type": "markdown",
   "id": "ec66b768",
   "metadata": {},
   "source": [
    "### Recommend with Pearsons' R correlations"
   ]
  },
  {
   "cell_type": "code",
   "execution_count": 19,
   "id": "657e56ae",
   "metadata": {},
   "outputs": [],
   "source": [
    "'''The way it works is we use # Pearsons' R correlation to measure the linear correlation between review scores of all pairs of movies\n",
    "then we provide the top 10 movies with highest correlations:'''\n",
    "\n",
    "def recommend(movie_title, min_count):\n",
    "    print(\"For movie ({})\".format(movie_title))\n",
    "    print(\"- Top 10 movies recommended based on Pearsons'R correlation - \")\n",
    "    i = int(df_title.index[df_title['Name'] == movie_title][0])\n",
    "    target = df_p[i]\n",
    "    similar_to_target = df_p.corrwith(target)\n",
    "    corr_target = pd.DataFrame(similar_to_target, columns = ['PearsonR'])\n",
    "    corr_target.dropna(inplace = True)\n",
    "    corr_target = corr_target.sort_values('PearsonR', ascending = False)\n",
    "    corr_target.index = corr_target.index.map(int)\n",
    "    corr_target = corr_target.join(df_title).join(df_movie_summary)[['PearsonR', 'Name', 'count', 'mean']]\n",
    "    print(corr_target[corr_target['count']>min_count][:10].to_string(index=False))"
   ]
  },
  {
   "cell_type": "markdown",
   "id": "d24b7c8b",
   "metadata": {},
   "source": [
    "### A recommendation for you if you like ?????'"
   ]
  },
  {
   "cell_type": "code",
   "execution_count": 24,
   "id": "c1614ac3",
   "metadata": {},
   "outputs": [
    {
     "name": "stdout",
     "output_type": "stream",
     "text": [
      "For movie (Justice League)\n",
      "- Top 10 movies recommended based on Pearsons'R correlation - \n",
      " PearsonR                                               Name  count      mean\n",
      " 1.000000                                     Justice League   3591  3.710944\n",
      " 0.775745                   Justice League: Justice on Trial   2961  3.718001\n",
      " 0.658475                                       Regular Guys   1931  3.372864\n",
      " 0.654393                                       Testosterone   1951  2.893901\n",
      " 0.643469  Batman: The Animated Series: Tales of the Dark...   2432  3.583059\n",
      " 0.631749                           Batman Beyond: The Movie   2614  3.726855\n",
      " 0.614198                 Batman Beyond: Return of the Joker   3704  3.604752\n",
      " 0.577765                       Batman: Mask of the Phantasm   2823  3.767977\n",
      " 0.567673                                 Nine Dead Gay Guys   2064  3.026647\n",
      " 0.567410                                              Yi Yi   2255  3.328603\n"
     ]
    }
   ],
   "source": [
    "recommend(\"Justice League\", 0)"
   ]
  },
  {
   "cell_type": "code",
   "execution_count": 55,
   "id": "b596d2ab",
   "metadata": {},
   "outputs": [
    {
     "name": "stdout",
     "output_type": "stream",
     "text": [
      "For movie (The Lord of the Rings)\n",
      "- Top 10 movies recommended based on Pearsons'R correlation - \n",
      " PearsonR                                         Name  count      mean\n",
      " 1.000000                        The Lord of the Rings   4729  3.475999\n",
      " 0.475312                                    Mr. Magoo   1994  2.546138\n",
      " 0.452681                        Hellraiser V: Inferno   2543  3.179316\n",
      " 0.446765                  The Hunchback of Notre Dame   1883  3.482209\n",
      " 0.443695         Scooby-Doo and the Monster of Mexico   2284  3.719352\n",
      " 0.440859                                    The Quest   2406  3.055278\n",
      " 0.436077          The Apple Dumpling Gang Rides Again   3160  3.713291\n",
      " 0.431222                                     18 Again   2266  2.803619\n",
      " 0.428003           Journey to the Center of the Earth   2013  3.105315\n",
      " 0.427612  101 Dalmatians II: Patch's London Adventure   6642  3.546070\n"
     ]
    }
   ],
   "source": [
    "recommend(\"The Lord of the Rings\", 0)"
   ]
  },
  {
   "cell_type": "code",
   "execution_count": 29,
   "id": "e6d80175",
   "metadata": {},
   "outputs": [
    {
     "name": "stdout",
     "output_type": "stream",
     "text": [
      "For movie (The Love Letter)\n",
      "- Top 10 movies recommended based on Pearsons'R correlation - \n",
      " PearsonR                                               Name  count      mean\n",
      " 1.000000                                    The Love Letter   2619  2.968690\n",
      " 0.612243                              Escaflowne: The Movie   1992  3.629016\n",
      " 0.606778             Tenchi the Movie: Tenchi Muyo! In Love   2148  3.457635\n",
      " 0.593931                                          The Quest   2406  3.055278\n",
      " 0.587133                                     The Desert Fox   1873  3.686065\n",
      " 0.581241                                       Judgment Day   2085  2.964988\n",
      " 0.580241                                  Sink the Bismarck   2135  3.706323\n",
      " 0.578270                                              11:14   2563  3.225127\n",
      " 0.574225                                  Operation Pacific   1839  3.762915\n",
      " 0.573812  Mystery Science Theater 3000: The Wild World o...   1907  3.486104\n"
     ]
    }
   ],
   "source": [
    "recommend(\"The Love Letter\",0)"
   ]
  },
  {
   "cell_type": "code",
   "execution_count": null,
   "id": "dd71f79f",
   "metadata": {},
   "outputs": [],
   "source": []
  }
 ],
 "metadata": {
  "kernelspec": {
   "display_name": "Python [conda env:pyvizenv] *",
   "language": "python",
   "name": "conda-env-pyvizenv-py"
  },
  "language_info": {
   "codemirror_mode": {
    "name": "ipython",
    "version": 3
   },
   "file_extension": ".py",
   "mimetype": "text/x-python",
   "name": "python",
   "nbconvert_exporter": "python",
   "pygments_lexer": "ipython3",
   "version": "3.7.10"
  }
 },
 "nbformat": 4,
 "nbformat_minor": 5
}
