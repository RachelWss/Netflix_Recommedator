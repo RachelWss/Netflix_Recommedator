{
 "cells": [
  {
   "cell_type": "markdown",
   "id": "990d7127-ae03-45ef-8835-afe499642a16",
   "metadata": {},
   "source": [
    "# Objective\n"
   ]
  },
  {
   "cell_type": "markdown",
   "id": "5c44fdee-d5ea-484e-a10c-0434f3bb0c0e",
   "metadata": {},
   "source": [
    "Machine learning from data and recommend best TV shows and movies to users based on their own rating history&viewing behaviour patterns"
   ]
  },
  {
   "cell_type": "code",
   "execution_count": 1,
   "id": "d885b116-cf0d-4f6d-9e66-e78928351516",
   "metadata": {},
   "outputs": [],
   "source": [
    "# to import all the library and modules we need "
   ]
  },
  {
   "cell_type": "code",
   "execution_count": 2,
   "id": "1bbc229f-e93d-4997-a4f2-039f4430ff3c",
   "metadata": {},
   "outputs": [],
   "source": [
    "import pandas as pd\n",
    "import numpy as np\n",
    "import math\n",
    "import re\n",
    "from scipy.sparse import csr_matrix\n",
    "import matplotlib.pyplot as plt\n",
    "import seaborn as sns\n",
    "from surprise import Reader, Dataset, SVD\n",
    "from surprise.model_selection import cross_validate\n",
    "sns.set_style(\"darkgrid\")"
   ]
  },
  {
   "cell_type": "code",
   "execution_count": 3,
   "id": "9a819d6b-cde9-425c-9de7-52aa7b9c7ea7",
   "metadata": {
    "tags": []
   },
   "outputs": [],
   "source": [
    "#Surprise is a Python scikit for building and analyzing recommender systems that deal with explicit rating data\n",
    "\n",
    "# !pip install scikit-surprise"
   ]
  },
  {
   "cell_type": "code",
   "execution_count": 3,
   "id": "080c4e61-4f35-4b0f-923f-96c0c7d6c8b7",
   "metadata": {},
   "outputs": [
    {
     "name": "stdout",
     "output_type": "stream",
     "text": [
      "Dataset 1 shape: (24058263, 2)\n",
      "-Dataset examples-\n",
      "         Customer_Id  Rating\n",
      "0                 1:     NaN\n",
      "2000000      1910904     5.0\n",
      "4000000       496631     3.0\n",
      "6000000      1091776     4.0\n",
      "8000000      1177065     2.0\n",
      "10000000     2271935     2.0\n",
      "12000000      700005     2.0\n",
      "14000000     1947241     5.0\n",
      "16000000      956220     4.0\n",
      "18000000      460528     3.0\n",
      "20000000     1933327     3.0\n",
      "22000000     1878057     3.0\n",
      "24000000      517002     4.0\n"
     ]
    }
   ],
   "source": [
    "# read dataframe and skip date\n",
    "df1 = pd.read_csv('../Resources/combined_data_1.txt', header = None, names = ['Customer_Id', 'Rating'], usecols = [0,1])\n",
    "\n",
    "df1['Rating'] = df1['Rating'].astype(float)\n",
    "\n",
    "print(f'Dataset 1 shape: {df1.shape}')\n",
    "print('-Dataset examples-')\n",
    "print(df1.iloc[::2000000, :])"
   ]
  },
  {
   "cell_type": "code",
   "execution_count": 4,
   "id": "8ea144c6-8a23-43b8-a9f8-b915a3b29c9a",
   "metadata": {},
   "outputs": [
    {
     "name": "stdout",
     "output_type": "stream",
     "text": [
      "Dataset 2 shape: (26982302, 2)\n",
      "Dataset 3 shape: (22605786, 2)\n",
      "Dataset 4 shape: (26851926, 2)\n"
     ]
    }
   ],
   "source": [
    "df2 = pd.read_csv('../Resources/combined_data_2.txt', header = None, names = ['Customer_Id', 'Rating'], usecols = [0,1])\n",
    "df3 = pd.read_csv('../Resources/combined_data_3.txt', header = None, names = ['Customer_Id', 'Rating'], usecols = [0,1])\n",
    "df4 = pd.read_csv('../Resources/combined_data_4.txt', header = None, names = ['Customer_Id', 'Rating'], usecols = [0,1])\n",
    "\n",
    "\n",
    "df2['Rating'] = df2['Rating'].astype(float)\n",
    "df3['Rating'] = df3['Rating'].astype(float)\n",
    "df4['Rating'] = df4['Rating'].astype(float)\n",
    "\n",
    "print(f'Dataset 2 shape: {df2.shape}')\n",
    "print(f'Dataset 3 shape: {df3.shape}')\n",
    "print(f'Dataset 4 shape: {df4.shape}')"
   ]
  },
  {
   "cell_type": "code",
   "execution_count": 5,
   "id": "d66f22e3-1c9d-4737-949e-67e21b6fd818",
   "metadata": {},
   "outputs": [
    {
     "name": "stdout",
     "output_type": "stream",
     "text": [
      "Full dataset shape: (100498277, 2)\n",
      "-Dataset examples-\n",
      "          Customer_Id  Rating\n",
      "0                  1:     NaN\n",
      "10000000      2271935     2.0\n",
      "20000000      1933327     3.0\n",
      "30000000       961023     4.0\n",
      "40000000       854274     5.0\n",
      "50000000       768483     3.0\n",
      "60000000      1609324     2.0\n",
      "70000000      1776418     4.0\n",
      "80000000       932047     4.0\n",
      "90000000       932191     4.0\n",
      "100000000      872339     4.0\n"
     ]
    }
   ],
   "source": [
    "df_full = pd.concat([df1,df2,df3,df4],axis=0)\n",
    "df_full.index = np.arange(0,len(df_full))\n",
    "print(f'Full dataset shape: {df_full.shape}')\n",
    "print('-Dataset examples-')\n",
    "print(df_full.iloc[::10000000, :])"
   ]
  },
  {
   "cell_type": "markdown",
   "id": "e160d5d4-428d-4de1-a0f2-441d12925590",
   "metadata": {},
   "source": [
    "## Exploratory Data Analysis"
   ]
  },
  {
   "cell_type": "code",
   "execution_count": null,
   "id": "d123df2e-6dbb-4674-870a-1481f67a10d6",
   "metadata": {},
   "outputs": [],
   "source": [
    "p = df1.groupby('Rating')['Rating'].agg(['count'])\n",
    "\n",
    "# get movie count\n",
    "movie_count = df1.isnull().sum()[1]\n",
    "\n",
    "# get customer count\n",
    "cust_count = df1['Customer_Id'].nunique() - movie_count\n",
    "\n",
    "# get rating count\n",
    "rating_count = df1['Customer_Id'].count() - movie_count\n",
    "\n",
    "ax = p.plot(kind = 'barh', legend = False, figsize = (15,10))\n",
    "plt.title('Total pool: {:,} Movies, {:,} customers, {:,} ratings given'.format(movie_count, cust_count, rating_count), fontsize=20)\n",
    "# plt.axis('off')\n",
    "\n",
    "for i in range(1,6):\n",
    "    ax.text(p.iloc[i-1][0]/4, i-1, 'Rating {}: {:.0f}%'.format(i, p.iloc[i-1][0]*100 / p.sum()[0]), color = 'white', weight = 'bold')"
   ]
  },
  {
   "cell_type": "code",
   "execution_count": null,
   "id": "3d6d0728-7bf1-4a13-9d4b-4bf0d5159de8",
   "metadata": {},
   "outputs": [],
   "source": []
  }
 ],
 "metadata": {
  "kernelspec": {
   "display_name": "Python [conda env:dev] *",
   "language": "python",
   "name": "conda-env-dev-py"
  },
  "language_info": {
   "codemirror_mode": {
    "name": "ipython",
    "version": 3
   },
   "file_extension": ".py",
   "mimetype": "text/x-python",
   "name": "python",
   "nbconvert_exporter": "python",
   "pygments_lexer": "ipython3",
   "version": "3.7.10"
  }
 },
 "nbformat": 4,
 "nbformat_minor": 5
}
